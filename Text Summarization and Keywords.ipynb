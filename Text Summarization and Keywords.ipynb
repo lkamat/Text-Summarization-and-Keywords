{
 "cells": [
  {
   "cell_type": "code",
   "execution_count": 21,
   "metadata": {},
   "outputs": [
    {
     "name": "stdout",
     "output_type": "stream",
     "text": [
      "\n",
      "Scout and Jem Finch are growing up in the tired old Alabama town of Maycomb. Their father, Atticus, is the local lawyer and as a single parent tries to raise his children with honor and respect to their individualism. With the Depression on times are hard, and there is no money to be found anywhere in town.\n",
      "To amuse themselves Scout, Jem, and their best friend Dill begin a relentless campaign during their summertimes to get Boo Radley, their reclusive, legendary neighbor, to come out of his house. They concoct endless schemes and even go so far as to create a play that details Boo's life. Atticus forbids them to have anything to do with Mr. Radley, urging them to let the poor man be.\n",
      "Atticus is a good man, and one day takes on a case that affects him personally. A black man, Tom Robinson, is accused of beating and raping a white woman, Mayella Ewell. Most of the county is convinced immediately that Tom is guilty of the crime, and begin to look at Atticus in a very negative way for actually defending him and trying to do right by him. Scout and Jem begin to get tormented over their father at school, and Atticus begs them not to get riled up over the town's prejudice.\n",
      "As the trial begins it becomes apparent to Scout and Jem that there is no way that Tom Robinson could have beaten and raped Mayella Ewell, as his left hand is crippled. Atticus proves that to the jury, and Scout and Jem are astonished when Tom is slapped with a guilty verdict anyway. They begin to realize that many people in town are very prejudiced against blacks, and their hearts are saddened by it. It is hard for them to understand how people can be so mean to each other, and they both begin to see that, even in court where things are supposed to be unbiased, men's hearts bring in their own hatreds.\n",
      "It isn't much longer that Tom is shot and killed for trying to escape while in prison. Jem especially takes the whole affair hard, and it takes him a long time to come to grips with the jury's decision, and Tom's death.\n",
      "After the trial has died down Bob Ewell, Mayella's father, begins threatening Atticus for embarrassing him in court, and resolves that he'll get him back one way or another. Atticus is convinced that he's all talk, and passes it off as such.\n",
      "Time crawls past, and finally Bob Ewell is good to his word and attacks the children Halloween night with a knife. He breaks Jem's arm and almost kills Scout, but Boo Radley, of all people, comes to their rescue and saves them. The sheriff, Heck Tate, hushes the whole thing over so Boo Radley will not be dragged into the spotlight, and Scout is thrilled to finally get to meet the man they for so long fantasized about. As she walks him back home, she realizes that all this time he was watching them from his front porch windows, and just for a little while she is able to stand in his shoes.\n",
      "\n",
      "\n",
      "\n",
      "Atticus Finch- Atticus is Scout and Jem's father. He is the local lawyer in Maycomb County, and tries hard to raise his children so they have integrity and the ability to come to their own conclusions about things. He does this by living his own life to his high standards, and this is in part why he feels compelled to take on Tom Robinson's case. He knows that he will lose, but feels knows Mr. Robinson is an innocent man, who's been wrongly accused due to his minority race.\n",
      "Scout Finch- Scout is the main character, as well as the narrator. As she grows up in Maycomb, she begins to understand why her father tries so hard to do the right thing. She is precocious, very much a tomboy, and for a time is obsessed with her ellusive neighbor, Boo Radley.\n",
      "Jem Finch- Jem is Scout's older brother. He especially finds it hard to grapple with the town's prejudice in light of the fact that Tom Robinson is most certainly innocent. As he gets older, he finds his own way to come to terms with the town he lives in, and the people around him. He always looks out for Scout, and saves her life the night they are attacked.\n",
      "Calpurnia- Cal is the Finch's cook, nanny, and is a mother-figure to Scout and Jem. She is stern but loving underneath, and tries hard to keep Scout on the straight and narrow.\n",
      "Aunt Alexandra- Aunt Alexandra is Atticus's sister who comes to live with the Finches when the trial starts. She is obsessed with the background of the Finches, and tries hard to impress upon Jem and Scout that they are a \"Fine Family\", and that the children should act as such. Scout and Jem, who love wearing overalls and playing outside, let her scolding go in one ear and out the other.\n",
      "Dill Harris- Dill is Scout and Jem's best friend, and he promises Scout that they will marry someday. He lives in Meridian and only comes to Maycomb during the summertime. He is a scrawny, intelligent boy with white blonde hair, brilliant blue eyes and is very much a dreamer. Dill becomes just as obsessed with making Boo Radley come out as the children.\n",
      "Maudie Atkinson- Miss Maudie is Scout's next door neighbor. She loves being outdoors and is one of the few people in town who feels that Tom Robinson deserves a fair trial, and that he most likely did not do what Mayella Ewell is accusing him of. She offers Jem and Scout many insights into their father's character, and helps them understand why he does what he does.\n",
      "Tom Robinson- Tom is the black man accused of beating and raping Mayella Ewell. His left arm is crippled from a farm accident that happened when he was a child, making it a physical impossibility that he beat the young woman;her attacker used their left arm exclusively. He is married with children, and is very nice and soft-spoken.\n",
      "Mayella Ewell- Mayella comes from a very poor family and lives by the town dump. She is the one accusing Tom Robinson of raping her, although it's obvious that she made advances toward Robinson and that when her father found out, he beat her. She lives a very sad life, with no friends, and a struggling family.\n",
      "Bob Ewell- Bob is Mayella's father, and is a drunk, mean-spirited man who is very prejudiced. Atticus embarrasses him in court, and he resolves to pay him back somehow, which he does when he tries to kill Jem and Scout.\n",
      "Heck Tate- Heck Tate is the local sheriff, and is a good man like Atticus. He too, tries to help Tom Robinson out in his own way. He and Atticus are good friends.\n",
      "Arthur \"Boo\" Radley- Boo Radley lives on the same street as Jem and Scout, but he never comes out of his house. This, of course, endlessly fascinates the kids. They try for many years to get him to come out, and all their schemes never work. The only time they ever see him is the night he saves their lives from Bob Ewell.\n",
      "Mrs. Dubose- Mrs. Dubose is a cantankerous, bitter old woman who lives at the end of the street. She never has anything good to say to anyone, but Atticus constantly tells the two of them to ignore her foul words and treat her with courtesy and respect.\n",
      "Scout Finch is growing up in a hot, tired Alabama town, where there is nothing to buy and nothing to buy it with. She and her older brother, Jem, live with their father, Atticus, the local lawyer, and their cook, Calpurnia, close to downtown Maycomb. They're all related by blood or marriage to everyone in town, so it's a close-knit group to say the least.\n",
      "As our story begins, summer has just started. Scout is six, and Jem is ten, and they have just discovered a boy hiding in their next door neighbors turnip greens. He's a scrawny kid who's name is Dill, and the three become instant friends as soon as it's revealed that Dill has already seen \"Dracula\", which gives him instant credibility.\n",
      "As summer progresses and favorite games become old hat, Scout, Jem, and Dill become obsessed with making Boo Radley come out. Boo Radley lives up the street from Scout and Jem, and legend has it that he never comes out of his house. Any small crimes or mysterious happenings in town are said to be his work, and rarely will anyone pass the house alone at night. Their first raid consists of a dare between Dill and Jem. He must run to the Radley house, touch it, and run back. He finally does it, but only after 3 days careful thought and much ribbing from Dill.\n",
      "When September rolls around and Dill leaves to go back home to Meridian, Scout realizes that she's starting her first year of school. After her first day, however, she's determined not to go back. After trying to explain the complicated backgrounds of some of the county folks to the new teacher, Scout lands herself into trouble again and again, and is not quite sure how. It should be obvious, she thinks, that offering Walter Cunningham a quarter for lunch is simply not done. They don't take help from anyone, and the reason why he doesn't have a lunch is because he can't afford one. When she tries to explain this to the new teacher, however, she gets her hands slapped by a ruler.\n",
      "When lunchtime finally rolls around, she's grateful to get out of class and go home.\n",
      "Scout wastes no time paying back Walter Cunningham for getting her started on the wrong foot with the new teacher. It isn't until Jem comes and stops her that she quits tormenting him in the playground, and she nearly falls over when Jem invites the poor boy to lunch at their house.\n",
      "The day doesn't improve when she embarrasses Walter at the table and is forced to eat in the kitchen by Calpurnia.\n",
      "When she returns to school the day's drama isn't over. Miss Caroline, the teacher, is horrified to discover a cootie in the hair of Burris Ewell, a hulking, angry boy who quickly reduces Miss Caroline to tears as he slouches out of the room, his first and only day of school over.\n",
      "That evening Scout is weary from the day's crimes and begs Atticus not to send her back to school anymore. The fact that Miss Caroline forbade her to read and write anymore is really what's distressing her, and when Atticus strikes a deal with her that if she will concede to go back to school they'll continue reading together like always, she happily accepts.\n",
      "As the schoolyear inches along, Scout begins to realize that she's far more educated than her peers, and even more so, perhaps, than her teacher. As construction paper and crayon Projects evolve day after day, she realizes she is just plain bored.\n",
      "As she walks home from school there is a huge oak tree that sits on the corner of the Radley lot. She passes it every day without incident, only one day she spots two pieces of chewing gum in a knot in the tree. After making sure it won't kill her she hastily crams it into her mouth, and Jem is furious with her when he finds out, convinced that it's poisoned by Boo Radley.\n",
      "During their walk home on the last day of school Scout and Jem find another treasure in the tree, this time two old, shined up pennies.\n",
      "When Dill arrives for the summer two days later the group resumes their obsession with Boo Radley. They create a play that reenacts Boo's life, and continue with it all summer long until they are very nearly caught by Atticus.\n",
      "When Dill and Jem start excluding Scout from their plots she begins to spend more time with her next door neighbor, Miss Maudie Atkinson. Miss Maudie is garden obsessed, and spends her evenings reining over her front porch in the twilight. Scout gets a lot of valuable information from her about Boo Radley's past, and the reason, perhaps, why he never comes out.\n",
      "The next day she uncovers a major plot by Dill and Jem to pass a note to Boo Radley. Scout protests but they threaten her and before she knows it she's part of the scheme. Things proceed fairly smoothly until they're caught by Atticus, who forbids them to set one more foot on the Radley property and to leave Mr. Radley alone.\n",
      "\n",
      "The last night of the summer Jem and Dill hatch the biggest plot of them all (reasoning that, if they get killed, they'll miss school instead of vacation). They decide to try and peep into one of the windows at the Radley house. When Scout (who until tonight knew nothing of the plan) starts to protest, they call her a girl and threaten to send her home. With that, she joins them.\n",
      "Things take a disastrous turn when Boo Radley's older brother, Mr. Nathan Radley, hears them and, thinking they're intruders, fires a shotgun. They barely make it through the fence in time and high tail it back home so they're not missed by the adults. When they step into the gathering crowd to discuss the gunshot Scout is horrified to realize that Jem is missing his pants. Dill hatches a good one and tells Atticus that he won them from Jem playing strip poker. The adults seem satisfied with the lie, and don't suspect them of causing the gunfire at the Radley place.\n",
      "After they slink off, Scout discovers from Jem that he lost his pants as they were scurrying through the wire fence. They got caught and he had to leave them behind or risk getting shot. Late that night Jem decides to go after them rather than risk Mr. Nathan finding them the next morning and turning him in. Scout pleads with him not to go, but he does it anyway. When he gets back, he doesn't say a word but lies in bed, trembling.\n",
      "Jem's silence about that night lasts for a week. They both start school again, and Scout discovers that the second grade is worse than the first, and the only consolation is that now she gets to stay as late as Jem and they can walk home together.\n",
      "It's during this walk home one afternoon that Jem finally opens up about his sojourn trip back to the Radley place to retrieve his pants. He tells Scout that his pants were not tangled up the wire as he left them but were folded neatly on the fence post, as if someone was expecting him to come back and get them.\n",
      "As they approach the oak tree with the knot hole they discover a ball of twine. After waiting a few days to make sure that the knot hole is not some other child's hiding place, they take ownership of everything they find in there from here on out.\n",
      "The next treasure they discover in there is the figure of a boy and girl carved out of soap. They're carved to look like Scout and Jem. The next prize is an old pocket watch that doesn't run. They decide to write a letter to whomever is leaving them things, but they're shocked to discover the next day that the hole has been filled with cement.\n",
      "When they question Mr. Nathan Radley (Boo's brother who does leave the house) he tells them the tree was sick and he had to do it. Upon questioning Atticus, however, he tells them that tree is perfectly healthy.\n",
      "That fall Maycomb endures the coldest snap since 1885, and Scout thinks the world is ending one morning when she wakes up and finds snow on the ground. Although it's only a dusting, Jem is determined to build his first snowman and sets out creatively making one out of dirt, and then using the precious white snow to cover it up.\n",
      "That night the temperature drops even further and all the stoves in the house are lit for warmth. Scout is awakened in the middle of the night by Atticus, who tells her Miss Maudie's house next door is on fire and they have to get out. They spend the night in front of the Radley driveway, watching the commotion.\n",
      "The men of Maycomb help as much as they can getting furniture out of her house while there is still time, but eventually the whole thing is up in flames. They don't go back inside the house until morning, and Scout is horrified to discover she's wrapped up in blanket and she has no idea where she got it. She almost falls over when they deduce it was Boo Radley that brought the blanket out to her in the night, and she never even knew.\n",
      "They're heartened to discover the next day that Miss Maudie is not grieving for her lost house, saying she always wanted a smaller one anyway.\n",
      "As the school year progresses Scout begins to get teased at school over her father, atticus is called a \"Nigger Defender\" and one night she asks Atticus why people are talking about him. He tells her that's he's taken on a case that affects him personally and because he is defending this man, Tom Robinson, there is a big stink about it in town. Atticus asks Scout that, no matter what she hears, she's not to get into a fight with someone over this case. True to her word, she doesn't fight, even when antagonized at school. Until Christmas.\n",
      "Their Uncle Jack Finch comes down from Boston, which is the good part of Christmas. The bad part is that they all have to spend Christmas day at Aunt Alexandra's house at Finch's Landing. Even worse, their cousin Francis is there, and Scout hates him.\n",
      "Things go smoothly until after dinner when, alone in the backyard with Scout, Francis starts calling Atticus all sorts of terrible names because he's defending a black man. Scout sails in with her fists to defend him and gets caught by Uncle Jack. She doesn't have a moment to tell her side of the story, and moments later they're on their way back home. She's finally able to tell her story to Uncle Jack later that night, and he apologizes for jumping all over her when he should've been punishing Francis.\n",
      "The neighborhood excitement starts up again in February when Tim Johnson, a mangy dog owned by a man on the other side of town, is discovered walking up the street with rabies. The sheriff is called and he and Atticus drive up with a gun to shoot it. Scout and Jem watch in amazement as their father, whom they've never seen hold a gun in his life, takes aim and shoots the dog square in the head from an amazing distance. They're further shocked to discover that he is the deadest shot in Maycomb county, an accomplishment he's never bothered to mention to them since he doesn't like guns.\n",
      "The day after Jem's 12th birthday finds the two walking into town to spend his birthday money. The downside to taking the route into town is that they have to walk past Mrs. Dubose's house, a cantankerous, bitter old woman who lives at the end of the street. She never has anything good to say to anyone, but Atticus constantly tells the two of them to ignore her foul words and treat her with courtesy and respect.\n",
      "Normally they're able to do this, but today their patience is pushed thin when she starts insulting Atticus's decision to defend Tom Robinson. They wait until they're on their way back home from town and suddenly Jem starts destroying Mrs. Dubose's flowers with Scout's baton wand, chopping them viciously off the bush and scattering them across her yard. When Atticus comes home later that evening, he knows he's in for it worse than he's ever been.\n",
      "Atticus makes Jem go to her house and talk with her, and when Jem returns he says that she is making him read to her everyday for the next month. When Monday comes around, Scout goes with him to keep him company, and the days drag by.\n",
      "When she dies a month later, Atticus informs them that Mrs. Dubose was a morphine addict who had decided she was not going to die addicted to the drug. Jem's afternoons of reading to her broke her from her addiction, and she was able to die in peace.\n",
      "As summer begins Scout is crushed to discover that Dill will not be joining them. When Atticus has to go out of town for two weeks, Calpurnia decides that she will take them to church with her. Aside from one woman, Jem and Scout are welcomed into the African church with open arms and they're amazed to see how different it is from their own staid church service.\n",
      "They're also amazed to find out that the church collection is going to Helen Robinson, Tom's wife, and the Reverend is not letting anyone leave until they've collected $10, which is what she needs each week to support her kids. Purses are scraped and pockets searched, and finally everyone comes up with enough money and the doors are opened.\n",
      "They also find out that Tom is in jail because he's accused of raping Bob Ewell's daughter, Mayella (who is white), which is why the entire town is in an uproar over Atticus taking on the case.\n",
      "When they get back home from church, they find Aunt Alexandra on the front porch swing waiting for them.\n",
      "As Scout and Jem begin to question Aunt Alexandra, she tells them she's come to stay awhile (which could be days or years, according to Maycomb's customs). She settles in and the county welcomes her with open arms, although she certainly adds a formidable presence to Jem and Scout's daily routine. She begins trying to instruct the two on how to be a proper Finch (since they come from, in her words, a Fine Family) but both Scout and Jem have no interest in becoming a little gentleman and a little lady, and hardly bother trying to learn.\n",
      "As life continues on with Aunty in the house, one night Scout goes to bed and steps on something soft and warm and round, which she thinks is a snake. After calling Jem in for a thorough investigation under her bed they find Dill under there, dirty and starving and still his same old self.\n",
      "Scout finds out that the reason why Dill ran off was because his parents just aren't interested in him, and he spends most of his days alone. He spends the night with them, uncertain what the next day will bring.\n",
      "It is decided a week later that Dill will stay in Maycomb with his Aunt Rachel, who happens to be the Finch's neighbor. This news makes both Scout and Jem very happy.\n",
      "One night they're all relaxing in the living room when Mr. Heck Tate, the sheriff, comes knocking at the door with a group of men, warning Atticus that the local group of no-accounts might try to come at Tom Robinson this weekend. He is being held in the Maycomb jail.\n",
      "The next night Atticus mysteriously leaves the house and on a hunch Jem, Scout and Dill go looking for him in town. They finally find him reading a book on the porch at the jailhouse. Once Jem is satisfied that Atticus is ok they turn to go, but suddenly a line of cars pull up and a group of men get out and surround the porch.\n",
      "Things get serious when Scout, Jem, and Dill rush into the crowd to Atticus's defense, and although he tells them to go home they don't budge. Scout realizes that these men are strangers, and that they're here to get Tom Robinson.\n",
      "Scout finally sees that she does know one man in the crowd, Mr. Cunningham, Walter's father, and as she tries to make conversation with him the entire group falls silent, listening to her talk about Walter and Mr. Cunningham's entailment, which Atticus is currently helping him out on. Although she doesn't realize it, she makes them all realize that they are acting barbaric and finally it's Mr. Cunningham who calls off the mob and makes everyone go home.\n",
      "The next morning, Saturday, the whole county begins to file into town to watch Tom Robinson's trial. Jem and Scout run a constant commentary for Dill, explaining the backgrounds and tendencies of everyone that passes. After lunch they head into town themselves to watch the trial. Due to the immense crowd there's no room downstairs but Reverend Sykes, the black preacher from Calpurnia's church, gives them seats in the colored section upstairs. When they get up there and sit down, they see the first witness is Mr. Heck Tate.\n",
      "As Atticus begins to question the sheriff, who was the one that immediately saw Mayella after she was raped, he immediately begins to find holes in his testimony that prove there is no way that Tom Robinson could have beaten and raped the girl, although at this time the jury and crowd don't really know where he's going with his questioning. All that is apparent is that Mayelle's right eye was blackened and that all around her throat was bruised, as if two strong hands had tried to strangle her.\n",
      "The next witness to take the stand is Mayella's father, Bob Ewell, who is poor, uneducated, and downright mean-spirited. As Atticus begins to question him, it becomes finally apparent to Jem where he's going. He suddenly sees that there is no doubt that it was Bob Ewell who beat up Mayelle and then pointed the finger at Tom. Scout still doesn't see it; however, and thinks Jem is counting his chickens before they're hatched. As she looks at the back of Tom Robinson, who is big and strong, she thinks he easily could have hurt Mayella.\n",
      "Mayella is the next to take the stand, and as Atticus questions her he begins to poke holes in her testimony as well. Finally he asks Tom Robinson to stand up so Mayella can identify him, and everyone sees that his left arm is fully 12 inches shorter than his right, and is therefore crippled and unusable. Scout finally sees that there is no way he could have choked Mayella and blacked out her right eye. It's a physical impossibility.\n",
      "Atticus then begins to ask her if it was really her father that beat her up but she refuses to say, and she refuses to say another word after she accuses Tom Robinson one more time.\n",
      "The next and last witness is Tom Robinson himself. Tom tells the jury that he went into Mayella's yard lots of times to help her with little chores, and that she was always asking for his help. She once offered to pay him, but Tom declined the invitation. Since that, Tom willingly executed Mayella's chores free of charge. When he begins talking about the night of the rape he tells everyone that Mayella invited him in to do a chore and then started coming on to him, trying to kiss him, and it was her father that saw what she was trying to do through the window. Tom tried to resist Mayella without hurting her, and as soon as he could get away he took off running. He is soft-spoken and polite. But he makes the mistake of telling Mr. Gilmore that the reason he helped Mayella is because he felt sorry for her. And in those times, a black man feeling sorry for a white woman or even saying it may as well be a crime.\n",
      "During the cross examination by Mr. Gilmore Dill begins crying uncontrollably, so Scout takes him outside for some fresh air. Dill cannot get over how cruel Mr. Gilmore (the prosecutor) is to Tom Robinson, and another man is outside the courthouse and knows exactly why Dill is so upset.\n",
      "The man is Mr. Dolphus Raymond, a local character who is ostracized because he married a black woman. To tone down the talk about him around the town he pretends to be a drunk, but it is really Coca Cola that is in the paper sack he carries around. He tells Dill that people can be very cruel sometimes and that it makes him sick too. Scout knows she shouldn't be out talking to this sinful man, but she finds him nice and fascinating.\n",
      "When they get back inside the courthouse they find Atticus in the middle of his closing statement, and Jem is convinced they're going to win the case since Tom Robinson could not have physically done what Mayella is accusing him of.\n",
      "When they go home that evening for dinner they can hardly wait to go back to the courthouse because they don't want to miss the verdict. They wolf down their supper and race back. The jury stays out a long time, till almost midnight, deciding on a verdict, and Scout falls asleep waiting to hear. In total the jurors were out deciding almost nine hours. Finally they come back with a verdict: guilty.\n",
      "Jem starts to cry, and cannot believe the jury would convict Tom when it was so obvious he hadn't raped Mayella. He and Scout are both in shock.\n",
      "The next morning the Finches all surprised at the amount of food that was left on the back porch from black people in the community, mostly from Calpurnia's neighborhood, to tell Atticus \"thank you\" for defending Tom Robinson, in spite of the verdict.\n",
      "The children have a conversation with Miss Maudie who tells them that it wasn't just Atticus trying to help Tom Robinson. They Judge was trying, Mr. Heck Tate was trying, there were lots of people behind the scene trying. They might of lost the case, she says, but only Atticus could have kept a jury out so long deciding. In her mind, it's a baby step towards equality.\n",
      "The next drama of the day is that Bob Ewell spits in the face of Atticus and says he'll get him back for embarrassing him so badly in court. Atticus passes it off as an empty threat, and does his best to assuage the fears of Jem and Scout, who are very worried for him.\n",
      "Atticus has not lost hope for Tom Robinson, either. There's still the appeal, which he's confident that they have a good chance of winning.\n",
      "As Jem and Scout discuss the lives and ways of Maycomb county folks after the trial, they begin to realize something disturbing about human nature, and the ways people can come up with to just be mean spirited. Jem begins to understand that the reason Boo Radley never comes out of his house is not because he can't, but is because he doesn't want to come out.\n",
      "As September inches closer Scout is introduced to formal tea time, hosted by Aunt Alexandra, who is on a relentless campaign to teach her to be a lady. As Scout navigates through the social hour she's lost on how ladies can look so pretty and delicate, and yet trap each other with conversation, revealing an aggressiveness you can't really see except when they talk to each other. She decides she feels much more at home in her father's world.\n",
      "When Atticus comes home early from work and interrupts tea Scout knows something's up. She follows him into the kitchen and learns that Tom Robinson is dead. He made a break for it at the prison and was shot by the guards. Atticus enlists the help of Calpurnia to go and tell Tom's wife, Helen. Scout, Miss Maudie, and Aunt Alexandra pull themselves together and rejoin the ladies at tea.\n",
      "Jem and Dill were able to witness the sad affair of Atticus having to tell Helen that Tom is dead, as his car passed them as they were walking back from swimming at Barkers Eddy. Atticus was very gentle about it, but Helen fainted away. The town of Maycomb was interested in Toms death for about two days, and then moved on to other things.\n",
      "Jem tells Scout that he heard from the grapevine that Mr. Ewell was threatened them again, saying that there was one down and two to go. Jem believes that he's all talk and warns Scout not to breathe a word to Atticus, and not to worry.\n",
      "As school starts Jem begins high school (7th grade) and Scout rarely sees him until dark. She's in 3rd grade now, and although the Radley place ceases to terrify her she still thinks about Boo, and regrets ever tormenting him the way they used to.\n",
      "One day in class they start talking about Adolf Hitler, and Scout discovers that her teacher, Miss Gates, hates Hitler and feels strongly that his persecution of Jews is wrong. Scout is confused about this, however, because during the summer at the trial she heard Miss Gates distinctly saying ugly things about Tom Robinson, and how this should teach them all a lesson. When she asks Jem about it, why Miss Gates can hate Hitler and yet feel Tom Robinson's verdict is justified because he's black, Jem gets very upset and yells at her not to ever talk about that trial to him again.\n",
      "When she goes to Atticus for comfort he tells her that Jem is just trying to come to terms with something in his head, and when he does he'll start being himself again.\n",
      "As October crawls forward a few things happen in town. The Judge finds a nighttime crawler in his yard but doesn't see who it is. Helen Robinson, Tom's wife, starts working for Mr. Link Deas, Tom's old employer, who offers her a job because he feels so badly about what happened to Tom. She has to go a mile out of her way to avoid the Ewell place, because each time she passes they antagonize her. When Mr. Deas finds out about it he goes over to the Ewell place and threatens Mr. Ewell to leave Helen alone. The next day Mr. Ewell follows Helen all the way to work and Mr. Deas has to chew him out again. To Aunt Alexandra, it bodes trouble.\n",
      "As Halloween approaches Scout learns that she will be required to participate in the school pageant, an agricultural themed production where she'll be playing the part of \"Pork\". Her costume is a large ham hock fashioned out of brown cloth and chicken wire. Everyone else is too worn out to come to the night's pageant, so Scout and Jem go alone.\n",
      "It's a really dark night, but Scout has fun playing the various games the school put on before the pageant. The entire county is there to watch the show, and Scout invariably falls asleep waiting for her part in the play and makes her entrance much too late. She's mortified, but it makes everyone laugh. Because she's so embarrassed about her performance she asks Jem to wait until most of the people have left the school before they begin walking home.\n",
      "As they start their journey back home in the pitch black dark, Jem begins to hear someone following them. At first they think it's their friend, Cecil, trying to scare them, but they begin to realize that it's not. Before they know what's hit them they're attacked from whomever is following them. Scout is crushed under her costume, and then Jem screams. She can't see a thing, and then things grow quiet and she realizes there are now 4 people under the tree.\n",
      "Scout stumbles out into the road, calling for Jem, and then sees a man walking unsteadily, carrying Jem in front of him towards their house.\n",
      "When she gets inside Atticus quickly calls the doctor and the Sheriff, and none of them know how badly Jem is hurt until Dr. Reynolds gets there and informs them that he's got a broken arm.\n",
      "Heck Tate gets there next and tells them all that Bob Ewell is lying under the tree where they were attacked, dead with a kitchen knife stuck in his ribs.\n",
      "Scout tells them all what happened leading up to the attack. The man that carried Jem into the house is still in the room with them, but he's so silent and in the shadows that they pretty much forget he's there. Heck Tate tells them that Scout's costume probably saved her life, as there is a slash mark through the chicken wire where Bob Ewell tried to stab her.\n",
      "When she gets to the end of her story she realizes that the man who saved their lives, the man who carried Jem home, is Boo Radley.\n",
      "As Dr. Reynolds starts to set Jem's arm they all head to the front porch, where Boo will be more comfortable in the shadows. Scout leads him out and sits beside him in the deepest shadow.\n",
      "Atticus and Heck Tate get into a battle of wills over who really killed Bob Ewell. Atticus believes Jem did it, and refuses to have the affair \"hushed up\" so it's hanging over Jem's head and the county has ample material for gossip. Heck Tate contends that Bob Ewell fell on his knife, and flat out refuses to tell anyone that Boo Radley killed him (which is what really happened). His reason is because he knows all the ladies of Maycomb county would be by Boo's house bringing him cakes to thank him, and he knows Boo doesn't want to be dragged into the limelight. Finally, Atticus agrees to the story, and thanks Boo for saving his children.\n",
      "Scout leads Boo back into the house one last time so he can say goodbye to Jem, who is still sleeping, and then she walks him home. After he goes inside she stands on his front porch and realizes that she can see the entire neighborhood. She understands that all through the years Boo has watched them grow up, playing games and living their lives. She begins to understand that maybe she and Jem did give something to Boo after all. She gives him a hug and heads back home.\n"
     ]
    }
   ],
   "source": [
    "from gensim.summarization import summarize\n",
    "from gensim.summarization import keywords\n",
    "import requests\n",
    "import logging \n",
    "\n",
    "logging.basicConfig(format='%(asctime)s : %(levelname)s : %(message)s', level=logging.INFO) \n",
    "\n",
    "r = requests.get('http://www.wikisummaries.org/wiki/To_Kill_a_Mockingbird')\n",
    "from bs4 import BeautifulSoup  \n",
    "soup = BeautifulSoup(r.text, 'lxml')\n",
    "\n",
    "for result in soup.find_all(class_=\"mw-content-ltr\"):\n",
    "    for story in result.find_all('p'):\n",
    "        [x.extract() for x in result.findAll('script')]\n",
    "        print(story.text.strip())"
   ]
  },
  {
   "cell_type": "code",
   "execution_count": 22,
   "metadata": {},
   "outputs": [
    {
     "name": "stdout",
     "output_type": "stream",
     "text": [
      "474\n"
     ]
    }
   ],
   "source": [
    "print(len(story.text))"
   ]
  },
  {
   "cell_type": "code",
   "execution_count": 23,
   "metadata": {},
   "outputs": [
    {
     "name": "stderr",
     "output_type": "stream",
     "text": [
      "2018-03-19 10:25:11,260 : WARNING : Input text is expected to have at least 10 sentences.\n",
      "2018-03-19 10:25:11,263 : INFO : adding document #0 to Dictionary(0 unique tokens: [])\n",
      "2018-03-19 10:25:11,265 : INFO : built Dictionary(29 unique tokens: ['head', 'hous', 'boo', 'goe', 'stand']...) from 5 documents (total 35 corpus positions)\n",
      "2018-03-19 10:25:11,266 : WARNING : Input corpus is expected to have at least 10 documents.\n"
     ]
    },
    {
     "name": "stdout",
     "output_type": "stream",
     "text": [
      "Summary:\n",
      "Scout leads Boo back into the house one last time so he can say goodbye to Jem, who is still sleeping, and then she walks him home.\n"
     ]
    }
   ],
   "source": [
    "print ('Summary:')\n",
    "print (summarize(story.text))"
   ]
  },
  {
   "cell_type": "code",
   "execution_count": 24,
   "metadata": {},
   "outputs": [
    {
     "name": "stderr",
     "output_type": "stream",
     "text": [
      "2018-03-19 10:25:15,849 : WARNING : Input text is expected to have at least 10 sentences.\n",
      "2018-03-19 10:25:15,851 : INFO : adding document #0 to Dictionary(0 unique tokens: [])\n",
      "2018-03-19 10:25:15,853 : INFO : built Dictionary(29 unique tokens: ['head', 'hous', 'boo', 'goe', 'stand']...) from 5 documents (total 35 corpus positions)\n",
      "2018-03-19 10:25:15,854 : WARNING : Input corpus is expected to have at least 10 documents.\n"
     ]
    },
    {
     "name": "stdout",
     "output_type": "stream",
     "text": [
      "['Scout leads Boo back into the house one last time so he can say goodbye to Jem, who is still sleeping, and then she walks him home.']\n"
     ]
    }
   ],
   "source": [
    "#Use the \"split\" option if you want a list of strings instead of a single string.\n",
    "print (summarize(story.text, split=True))"
   ]
  },
  {
   "cell_type": "code",
   "execution_count": 80,
   "metadata": {},
   "outputs": [
    {
     "name": "stderr",
     "output_type": "stream",
     "text": [
      "2018-03-16 12:12:44,514 : WARNING : Input text is expected to have at least 10 sentences.\n",
      "2018-03-16 12:12:44,516 : INFO : adding document #0 to Dictionary(0 unique tokens: [])\n",
      "2018-03-16 12:12:44,518 : INFO : built Dictionary(29 unique tokens: ['sleep', 'neighborhood', 'hug', 'begin', 'live']...) from 5 documents (total 35 corpus positions)\n",
      "2018-03-16 12:12:44,519 : WARNING : Input corpus is expected to have at least 10 documents.\n"
     ]
    },
    {
     "name": "stdout",
     "output_type": "stream",
     "text": [
      "Summary:\n",
      "Scout leads Boo back into the house one last time so he can say goodbye to Jem, who is still sleeping, and then she walks him home.\n",
      "She begins to understand that maybe she and Jem did give something to Boo after all.\n"
     ]
    }
   ],
   "source": [
    "# Adjust how much text the summarizer outputs via the \"ratio\" parameter or the \"word_count\" parameter. \n",
    "# Using the \"ratio\" parameter, you specify what fraction of sentences in the original text should be returned as output. \n",
    "print ('Summary:')\n",
    "print (summarize(story.text, ratio=0.5))"
   ]
  },
  {
   "cell_type": "code",
   "execution_count": 79,
   "metadata": {},
   "outputs": [
    {
     "name": "stderr",
     "output_type": "stream",
     "text": [
      "2018-03-16 12:12:02,066 : WARNING : Input text is expected to have at least 10 sentences.\n",
      "2018-03-16 12:12:02,069 : INFO : adding document #0 to Dictionary(0 unique tokens: [])\n",
      "2018-03-16 12:12:02,071 : INFO : built Dictionary(29 unique tokens: ['sleep', 'neighborhood', 'hug', 'begin', 'live']...) from 5 documents (total 35 corpus positions)\n",
      "2018-03-16 12:12:02,073 : WARNING : Input corpus is expected to have at least 10 documents.\n"
     ]
    },
    {
     "name": "stdout",
     "output_type": "stream",
     "text": [
      "Summary:\n",
      "Scout leads Boo back into the house one last time so he can say goodbye to Jem, who is still sleeping, and then she walks him home.\n",
      "After he goes inside she stands on his front porch and realizes that she can see the entire neighborhood.\n",
      "She understands that all through the years Boo has watched them grow up, playing games and living their lives.\n",
      "She begins to understand that maybe she and Jem did give something to Boo after all.\n",
      "She gives him a hug and heads back home.\n"
     ]
    }
   ],
   "source": [
    "# Specify the maximum amount of words we want in the summary. \n",
    "\n",
    "print ('Summary:')\n",
    "print (summarize(story.text, word_count=200))"
   ]
  },
  {
   "cell_type": "code",
   "execution_count": 95,
   "metadata": {},
   "outputs": [
    {
     "name": "stdout",
     "output_type": "stream",
     "text": [
      "\n",
      "Keywords:\n",
      "leads\n",
      "boo\n"
     ]
    }
   ],
   "source": [
    "#Extract the keywords\n",
    "print ('\\nKeywords:')\n",
    "print (keywords(story.text))"
   ]
  },
  {
   "cell_type": "code",
   "execution_count": null,
   "metadata": {
    "collapsed": true
   },
   "outputs": [],
   "source": []
  }
 ],
 "metadata": {
  "kernelspec": {
   "display_name": "Python [default]",
   "language": "python",
   "name": "python3"
  },
  "language_info": {
   "codemirror_mode": {
    "name": "ipython",
    "version": 3
   },
   "file_extension": ".py",
   "mimetype": "text/x-python",
   "name": "python",
   "nbconvert_exporter": "python",
   "pygments_lexer": "ipython3",
   "version": "3.5.3"
  }
 },
 "nbformat": 4,
 "nbformat_minor": 2
}
